{
  "nbformat": 4,
  "nbformat_minor": 0,
  "metadata": {
    "kernelspec": {
      "display_name": "Python 3",
      "language": "python",
      "name": "python3"
    },
    "language_info": {
      "codemirror_mode": {
        "name": "ipython",
        "version": 3
      },
      "file_extension": ".py",
      "mimetype": "text/x-python",
      "name": "python",
      "nbconvert_exporter": "python",
      "pygments_lexer": "ipython3",
      "version": "3.5.1"
    },
    "colab": {
      "name": "Copy of Calculus1-Lab2.ipynb",
      "provenance": [],
      "collapsed_sections": [],
      "include_colab_link": true
    }
  },
  "cells": [
    {
      "cell_type": "markdown",
      "metadata": {
        "id": "view-in-github",
        "colab_type": "text"
      },
      "source": [
        "<a href=\"https://colab.research.google.com/github/nuranira/Lab-Assignment-Calculus1/blob/master/Copy_of_Calculus1_Lab2.ipynb\" target=\"_parent\"><img src=\"https://colab.research.google.com/assets/colab-badge.svg\" alt=\"Open In Colab\"/></a>"
      ]
    },
    {
      "cell_type": "markdown",
      "metadata": {
        "id": "f2iYdfx4r3oU"
      },
      "source": [
        "# MAT421 - Lab 2"
      ]
    },
    {
      "cell_type": "code",
      "metadata": {
        "id": "PL96Lwf3r3ob"
      },
      "source": [
        "#%matplotlib notebook\n",
        "%matplotlib inline\n",
        "#%pylab inline\n",
        "#init_session(use_unicode=True)\n",
        "from __future__ import division\n",
        "from sympy import *\n",
        "x, y, z, t = symbols('x y z t', real=True)\n",
        "k, m, n = symbols('k m n', integer=True)\n",
        "f, g, h = symbols('f g h', cls=Function)\n",
        "init_printing()"
      ],
      "execution_count": 105,
      "outputs": []
    },
    {
      "cell_type": "markdown",
      "metadata": {
        "id": "WtdMIOfer3oc"
      },
      "source": [
        "<hr />"
      ]
    },
    {
      "cell_type": "markdown",
      "metadata": {
        "id": "6A-tG_rKr3od"
      },
      "source": [
        "To run a cell: Shift+Enter.<br />\n",
        "\n",
        "To print:\n",
        "- Cell > Run All.<br />\n",
        "- Make sure no there is no error. <br />\n",
        "- File -> Print Preview. Print using the browser's print menu."
      ]
    },
    {
      "cell_type": "markdown",
      "metadata": {
        "id": "mnf_sW-6r3od"
      },
      "source": [
        "<hr />"
      ]
    },
    {
      "cell_type": "markdown",
      "metadata": {
        "id": "HX43uWSLr3oe"
      },
      "source": [
        "Print your name using print function. <br />\n",
        "\n",
        "Example:\n",
        "print(\"Ali bin Ahmad\")"
      ]
    },
    {
      "cell_type": "code",
      "metadata": {
        "collapsed": true,
        "id": "YHt9VVlYr3oe",
        "colab": {
          "base_uri": "https://localhost:8080/",
          "height": 35
        },
        "outputId": "da217c70-1540-4198-a96b-2768c6c524d7"
      },
      "source": [
        "\"NUR ANIRA BINTI ADAM\""
      ],
      "execution_count": 106,
      "outputs": [
        {
          "output_type": "execute_result",
          "data": {
            "application/vnd.google.colaboratory.intrinsic+json": {
              "type": "string"
            },
            "text/plain": [
              "'NUR ANIRA BINTI ADAM'"
            ]
          },
          "metadata": {
            "tags": []
          },
          "execution_count": 106
        }
      ]
    },
    {
      "cell_type": "markdown",
      "metadata": {
        "id": "XIAPvPdur3of"
      },
      "source": [
        "Print your student id using print function."
      ]
    },
    {
      "cell_type": "code",
      "metadata": {
        "collapsed": true,
        "id": "-HmR6iK4r3og",
        "colab": {
          "base_uri": "https://localhost:8080/",
          "height": 37
        },
        "outputId": "78830f4d-945c-4751-aba8-9111688eb9c4"
      },
      "source": [
        "2020831018"
      ],
      "execution_count": 107,
      "outputs": [
        {
          "output_type": "execute_result",
          "data": {
            "image/png": "[encoded data removed]",
            "text/latex": "$$2020831018$$",
            "text/plain": [
              "2020831018"
            ]
          },
          "metadata": {
            "tags": []
          },
          "execution_count": 107
        }
      ]
    },
    {
      "cell_type": "markdown",
      "metadata": {
        "id": "pKClZxP7r3oh"
      },
      "source": [
        "<hr />"
      ]
    },
    {
      "cell_type": "markdown",
      "metadata": {
        "id": "tul7HJ2qr3oh"
      },
      "source": [
        "## Define the functions f and g, find the intersections (if exists), plot the graph and find the enclosed area."
      ]
    },
    {
      "cell_type": "markdown",
      "metadata": {
        "id": "tQ8cITiBr3oi"
      },
      "source": [
        "a) $f(x) = x^2 + 2$ and $g(x)=1-x$ between $x=0$ and $x=1$."
      ]
    },
    {
      "cell_type": "markdown",
      "metadata": {
        "id": "qxDr7OoIr3oj"
      },
      "source": [
        "Define $f$ and $g$. Then, plot $f$ and $g$ on the same graph for $x\\in[0,1]$."
      ]
    },
    {
      "cell_type": "code",
      "metadata": {
        "id": "Uy3E3n66HRQy",
        "colab": {
          "base_uri": "https://localhost:8080/",
          "height": 37
        },
        "outputId": "0dd884c7-608a-456d-c07e-d94ad287dcdb"
      },
      "source": [
        "def f(x):\r\n",
        "    return x**2 + 2\r\n",
        "f(0)"
      ],
      "execution_count": 108,
      "outputs": [
        {
          "output_type": "execute_result",
          "data": {
            "image/png": "[encoded data removed]",
            "text/latex": "$$2$$",
            "text/plain": [
              "2"
            ]
          },
          "metadata": {
            "tags": []
          },
          "execution_count": 108
        }
      ]
    },
    {
      "cell_type": "code",
      "metadata": {
        "id": "E1T3kdGHHQ9b",
        "colab": {
          "base_uri": "https://localhost:8080/",
          "height": 37
        },
        "outputId": "815fc632-f657-432e-b0a3-eaa703c4a6a5"
      },
      "source": [
        "f(1)"
      ],
      "execution_count": 109,
      "outputs": [
        {
          "output_type": "execute_result",
          "data": {
            "image/png": "[encoded data removed]",
            "text/latex": "$$3$$",
            "text/plain": [
              "3"
            ]
          },
          "metadata": {
            "tags": []
          },
          "execution_count": 109
        }
      ]
    },
    {
      "cell_type": "code",
      "metadata": {
        "id": "84Z8FV_bHyTT",
        "colab": {
          "base_uri": "https://localhost:8080/",
          "height": 37
        },
        "outputId": "b047c9d2-351f-42df-f457-cf8f55d08ba4"
      },
      "source": [
        "def g(x):\r\n",
        "    return 1-x\r\n",
        "g(0)"
      ],
      "execution_count": 110,
      "outputs": [
        {
          "output_type": "execute_result",
          "data": {
            "image/png": "[encoded data removed]",
            "text/latex": "$$1$$",
            "text/plain": [
              "1"
            ]
          },
          "metadata": {
            "tags": []
          },
          "execution_count": 110
        }
      ]
    },
    {
      "cell_type": "code",
      "metadata": {
        "id": "4UNlhpWTHyAt",
        "colab": {
          "base_uri": "https://localhost:8080/",
          "height": 37
        },
        "outputId": "84bfde7e-636f-43e5-bf3e-704e4791aeb1"
      },
      "source": [
        "g(1)"
      ],
      "execution_count": 111,
      "outputs": [
        {
          "output_type": "execute_result",
          "data": {
            "image/png": "[encoded data removed]",
            "text/latex": "$$0$$",
            "text/plain": [
              "0"
            ]
          },
          "metadata": {
            "tags": []
          },
          "execution_count": 111
        }
      ]
    },
    {
      "cell_type": "code",
      "metadata": {
        "colab": {
          "base_uri": "https://localhost:8080/",
          "height": 282
        },
        "id": "tKdEBTMZWBVb",
        "outputId": "2423dc31-cd20-4ed3-c4ad-7fcd2543a92e"
      },
      "source": [
        "import numpy as np\r\n",
        "import matplotlib.pyplot as plt\r\n",
        "import scipy.integrate as integrate\r\n",
        "f=lambda x: x**2+2\r\n",
        "g=lambda x:1-x\r\n",
        "x=np.linspace(0,1,100)\r\n",
        "fx=f(x)\r\n",
        "gx=g(x)\r\n",
        "plt.plot(x,f(x),'r', label='f(x)=x**2+2')\r\n",
        "plt.plot(x,g(x),'y', label='g(x)=1-x')\r\n",
        "plt.fill_between(x,fx,gx)\r\n",
        "plt.legend()"
      ],
      "execution_count": 112,
      "outputs": [
        {
          "output_type": "execute_result",
          "data": {
            "text/plain": [
              "<matplotlib.legend.Legend at 0x7f6de20222e8>"
            ]
          },
          "metadata": {
            "tags": []
          },
          "execution_count": 112
        },
        {
          "output_type": "display_data",
          "data": {
            "image/png": "[encoded data removed]",
            "text/plain": [
              "<Figure size 432x288 with 1 Axes>"
            ]
          },
          "metadata": {
            "tags": [],
            "needs_background": "light"
          }
        }
      ]
    },
    {
      "cell_type": "markdown",
      "metadata": {
        "id": "fYYS3bc8r3oj"
      },
      "source": [
        "Calculate the enclosed area."
      ]
    },
    {
      "cell_type": "code",
      "metadata": {
        "colab": {
          "base_uri": "https://localhost:8080/",
          "height": 37
        },
        "id": "Yml0GEEziASr",
        "outputId": "ad991952-872a-48bf-a7a1-03b39970f414"
      },
      "source": [
        "fdu = integrate.quad(f, 0, 1)[0]\r\n",
        "fdu\r\n",
        "g = lambda x: 1-x \r\n",
        "gdu = integrate.quad(g, 0, 1) [0]\r\n",
        "gdu\r\n",
        "\r\n",
        "fdu - gdu # the answer!"
      ],
      "execution_count": 113,
      "outputs": [
        {
          "output_type": "execute_result",
          "data": {
            "image/png": "[encoded data removed]",
            "text/latex": "$$1.8333333333333335$$",
            "text/plain": [
              "1.8333333333333335"
            ]
          },
          "metadata": {
            "tags": []
          },
          "execution_count": 113
        }
      ]
    },
    {
      "cell_type": "markdown",
      "metadata": {
        "id": "VyBLxo01r3ok"
      },
      "source": [
        "<hr />"
      ]
    },
    {
      "cell_type": "markdown",
      "metadata": {
        "id": "D6BGkJ6Ur3ok"
      },
      "source": [
        "b) $f(x) = x - 1$ and $g(x)=2x^3 - 1$ between $x=1$ and $x=2$."
      ]
    },
    {
      "cell_type": "markdown",
      "metadata": {
        "id": "pImNn7kAr3ok"
      },
      "source": [
        "Define $f$ and $g$. Then, plot $f$ and $g$ on the same graph for $x\\in[1,2]$."
      ]
    },
    {
      "cell_type": "code",
      "metadata": {
        "id": "fBExtfcQr3ol",
        "colab": {
          "base_uri": "https://localhost:8080/",
          "height": 37
        },
        "outputId": "774c1282-6c10-489b-eee0-68a283ed907b"
      },
      "source": [
        "def f(x):\r\n",
        "    return x-1\r\n",
        "f(1)\r\n"
      ],
      "execution_count": 114,
      "outputs": [
        {
          "output_type": "execute_result",
          "data": {
            "image/png": "[encoded data removed]",
            "text/latex": "$$0$$",
            "text/plain": [
              "0"
            ]
          },
          "metadata": {
            "tags": []
          },
          "execution_count": 114
        }
      ]
    },
    {
      "cell_type": "code",
      "metadata": {
        "id": "AxIoLNw1cF_9",
        "colab": {
          "base_uri": "https://localhost:8080/",
          "height": 37
        },
        "outputId": "78838cb0-d5ab-4c2b-c9ea-c358ddedf578"
      },
      "source": [
        "f(2)"
      ],
      "execution_count": 115,
      "outputs": [
        {
          "output_type": "execute_result",
          "data": {
            "image/png": "[encoded data removed]",
            "text/latex": "$$1$$",
            "text/plain": [
              "1"
            ]
          },
          "metadata": {
            "tags": []
          },
          "execution_count": 115
        }
      ]
    },
    {
      "cell_type": "code",
      "metadata": {
        "id": "nNP87ywccFoO",
        "colab": {
          "base_uri": "https://localhost:8080/",
          "height": 37
        },
        "outputId": "248400df-92a5-4a81-8963-5a4970c5b847"
      },
      "source": [
        "def g(x):\r\n",
        "    return 2*x**3- 1\r\n",
        "g(1)\r\n"
      ],
      "execution_count": 116,
      "outputs": [
        {
          "output_type": "execute_result",
          "data": {
            "image/png": "[encoded data removed]",
            "text/latex": "$$1$$",
            "text/plain": [
              "1"
            ]
          },
          "metadata": {
            "tags": []
          },
          "execution_count": 116
        }
      ]
    },
    {
      "cell_type": "code",
      "metadata": {
        "id": "uR9eHNZxcDdJ",
        "colab": {
          "base_uri": "https://localhost:8080/",
          "height": 37
        },
        "outputId": "bf382652-8754-4a73-813f-5947a74630fc"
      },
      "source": [
        "g(2)"
      ],
      "execution_count": 117,
      "outputs": [
        {
          "output_type": "execute_result",
          "data": {
            "image/png": "[encoded data removed]",
            "text/latex": "$$15$$",
            "text/plain": [
              "15"
            ]
          },
          "metadata": {
            "tags": []
          },
          "execution_count": 117
        }
      ]
    },
    {
      "cell_type": "code",
      "metadata": {
        "colab": {
          "base_uri": "https://localhost:8080/",
          "height": 282
        },
        "id": "LGcrGs9Jksu9",
        "outputId": "e032940a-0e48-4fec-85a9-f773eed26734"
      },
      "source": [
        "import numpy as np\r\n",
        "import matplotlib.pyplot as plt\r\n",
        "import scipy.integrate as integrate\r\n",
        "f=lambda x:x-1\r\n",
        "g=lambda x:2*x**3-1\r\n",
        "x=np.linspace(1,2,100)\r\n",
        "fx=f(x)\r\n",
        "gx=g(x)\r\n",
        "plt.plot(x,f(x), 'r' ,label='f(x)=x-1')\r\n",
        "plt.plot(x,g(x),'y', label='g(x)=2*x**3-1')\r\n",
        "plt.fill_between(x,fx,gx)\r\n",
        "plt.legend()"
      ],
      "execution_count": 118,
      "outputs": [
        {
          "output_type": "execute_result",
          "data": {
            "text/plain": [
              "<matplotlib.legend.Legend at 0x7f6de1fd2358>"
            ]
          },
          "metadata": {
            "tags": []
          },
          "execution_count": 118
        },
        {
          "output_type": "display_data",
          "data": {
            "image/png": "[encoded data removed]",
            "text/plain": [
              "<Figure size 432x288 with 1 Axes>"
            ]
          },
          "metadata": {
            "tags": [],
            "needs_background": "light"
          }
        }
      ]
    },
    {
      "cell_type": "markdown",
      "metadata": {
        "id": "dusaLSCxr3ol"
      },
      "source": [
        "Calculate the enclosed area."
      ]
    },
    {
      "cell_type": "code",
      "metadata": {
        "id": "UyCI-RUkr3ol",
        "colab": {
          "base_uri": "https://localhost:8080/",
          "height": 37
        },
        "outputId": "24d28ce0-a5a8-4c24-e55a-8c9427bd762c"
      },
      "source": [
        "fdu = integrate.quad(f, 1, 2) [0]\r\n",
        "fdu\r\n",
        "g= lambda x: 2*x**3-1\r\n",
        "gdu= integrate.quad(g, 1, 2) [0]\r\n",
        "gdu\r\n",
        "gdu - fdu # the answer!"
      ],
      "execution_count": 119,
      "outputs": [
        {
          "output_type": "execute_result",
          "data": {
            "image/png": "[encoded data removed]",
            "text/latex": "$$6.000000000000001$$",
            "text/plain": [
              "6.000000000000001"
            ]
          },
          "metadata": {
            "tags": []
          },
          "execution_count": 119
        }
      ]
    },
    {
      "cell_type": "markdown",
      "metadata": {
        "id": "QgKLpkfMr3ol"
      },
      "source": [
        "c) $f(x) = (x-1)^2$ and $g(x)=-x+3$."
      ]
    },
    {
      "cell_type": "markdown",
      "metadata": {
        "id": "OKHDAwtZr3ol"
      },
      "source": [
        "Define $f$ and $g$. Then, find the $x$ value of the intersection point(s) of $f$ and $g$ using function \"solve\"."
      ]
    },
    {
      "cell_type": "markdown",
      "metadata": {
        "id": "F9nGIh4pr3om"
      },
      "source": [
        "Plot $f$ and $g$ on the same graph for $x\\in[-1,2]$."
      ]
    },
    {
      "cell_type": "code",
      "metadata": {
        "id": "_eC89tWlr3om"
      },
      "source": [
        ""
      ],
      "execution_count": 119,
      "outputs": []
    },
    {
      "cell_type": "code",
      "metadata": {
        "colab": {
          "base_uri": "https://localhost:8080/",
          "height": 37
        },
        "id": "IhTqQpwgr3om",
        "outputId": "291eff38-0deb-4e4e-af23-015e90b131a8"
      },
      "source": [
        "def f(x):\r\n",
        "    return (x-1)**2 \r\n",
        "f(-1)\r\n"
      ],
      "execution_count": 120,
      "outputs": [
        {
          "output_type": "execute_result",
          "data": {
            "image/png": "[encoded data removed]",
            "text/latex": "$$4$$",
            "text/plain": [
              "4"
            ]
          },
          "metadata": {
            "tags": []
          },
          "execution_count": 120
        }
      ]
    },
    {
      "cell_type": "code",
      "metadata": {
        "id": "5ZaeAqf2nru-",
        "colab": {
          "base_uri": "https://localhost:8080/",
          "height": 37
        },
        "outputId": "0b20271f-c324-4a4f-e6b4-d86ee80a63de"
      },
      "source": [
        "f(2)"
      ],
      "execution_count": 121,
      "outputs": [
        {
          "output_type": "execute_result",
          "data": {
            "image/png": "[encoded data removed]",
            "text/latex": "$$1$$",
            "text/plain": [
              "1"
            ]
          },
          "metadata": {
            "tags": []
          },
          "execution_count": 121
        }
      ]
    },
    {
      "cell_type": "code",
      "metadata": {
        "id": "WZqpYy1bnyw2",
        "colab": {
          "base_uri": "https://localhost:8080/",
          "height": 37
        },
        "outputId": "4e02e263-109a-4563-d491-05e464745faa"
      },
      "source": [
        "def g(x):\r\n",
        "      return -x+3\r\n",
        "g(-1)"
      ],
      "execution_count": 122,
      "outputs": [
        {
          "output_type": "execute_result",
          "data": {
            "image/png": "[encoded data removed]",
            "text/latex": "$$4$$",
            "text/plain": [
              "4"
            ]
          },
          "metadata": {
            "tags": []
          },
          "execution_count": 122
        }
      ]
    },
    {
      "cell_type": "code",
      "metadata": {
        "id": "EtgG7qbTnycY",
        "colab": {
          "base_uri": "https://localhost:8080/",
          "height": 37
        },
        "outputId": "fe1fff29-97af-4600-a3a7-759edbed067f"
      },
      "source": [
        "g(2)"
      ],
      "execution_count": 123,
      "outputs": [
        {
          "output_type": "execute_result",
          "data": {
            "image/png": "[encoded data removed]",
            "text/latex": "$$1$$",
            "text/plain": [
              "1"
            ]
          },
          "metadata": {
            "tags": []
          },
          "execution_count": 123
        }
      ]
    },
    {
      "cell_type": "code",
      "metadata": {
        "colab": {
          "base_uri": "https://localhost:8080/",
          "height": 282
        },
        "id": "DGfvS2PKpfpm",
        "outputId": "d1856a0b-dd97-40ad-806a-24f428d0c158"
      },
      "source": [
        "import numpy as np\r\n",
        "import matplotlib.pyplot as plt\r\n",
        "import scipy.integrate as integrate\r\n",
        "f=lambda x:(x-1)**2\r\n",
        "g=lambda x:-x+3\r\n",
        "x=np.linspace(-1,2,100)\r\n",
        "fx=f(x)\r\n",
        "gx=g(x)\r\n",
        "plt.plot(x,f(x),'r' ,label='f(x)=(x-1)**2')\r\n",
        "plt.plot(x,g(x),'y', label='g(x)=-x+3')\r\n",
        "plt.fill_between(x,fx,gx)\r\n",
        "plt.legend()"
      ],
      "execution_count": 124,
      "outputs": [
        {
          "output_type": "execute_result",
          "data": {
            "text/plain": [
              "<matplotlib.legend.Legend at 0x7f6de1f51748>"
            ]
          },
          "metadata": {
            "tags": []
          },
          "execution_count": 124
        },
        {
          "output_type": "display_data",
          "data": {
            "image/png": "[encoded data removed]",
            "text/plain": [
              "<Figure size 432x288 with 1 Axes>"
            ]
          },
          "metadata": {
            "tags": [],
            "needs_background": "light"
          }
        }
      ]
    },
    {
      "cell_type": "markdown",
      "metadata": {
        "id": "BVEeU4jLr3om"
      },
      "source": [
        "Calculate the enclosed area."
      ]
    },
    {
      "cell_type": "code",
      "metadata": {
        "id": "Q9V1zgYbr3on",
        "colab": {
          "base_uri": "https://localhost:8080/",
          "height": 37
        },
        "outputId": "47d2a303-f496-4e25-d456-96fb590fa62f"
      },
      "source": [
        "f = lambda x: (x-1)**2\r\n",
        "fdu = integrate.quad(f, -1, 2) [0]\r\n",
        "fdu\r\n",
        "g = lambda x: -x+3\r\n",
        "gdu = integrate.quad(g, -1, 2) [0]\r\n",
        "gdu\r\n",
        "\r\n",
        "gdu-fdu #the answer!"
      ],
      "execution_count": 125,
      "outputs": [
        {
          "output_type": "execute_result",
          "data": {
            "image/png": "[encoded data removed]",
            "text/latex": "$$4.5$$",
            "text/plain": [
              "4.5"
            ]
          },
          "metadata": {
            "tags": []
          },
          "execution_count": 125
        }
      ]
    },
    {
      "cell_type": "markdown",
      "metadata": {
        "id": "x7WnhqnKr3on"
      },
      "source": [
        "<hr />"
      ]
    },
    {
      "cell_type": "markdown",
      "metadata": {
        "id": "KIT8rZjNr3on"
      },
      "source": [
        "## Define the functions f and g, find the intersections (if exists), plot the graph and find the volume of solids by DIsk (Washer)."
      ]
    },
    {
      "cell_type": "markdown",
      "metadata": {
        "id": "LXeWu1Kyr3on"
      },
      "source": [
        "a) $f(x) = \\sqrt x$, $g(x) = x - 2$, $y = 0$. Revolve about $y=0$."
      ]
    },
    {
      "cell_type": "markdown",
      "metadata": {
        "id": "gMQgYPcnr3on"
      },
      "source": [
        "Define $f$ and $g$. Then, find the $x$ value of the intersection point(s) of $f$ and $g$ using function \"solve\"."
      ]
    },
    {
      "cell_type": "code",
      "metadata": {
        "id": "xZbejZWkr3oo"
      },
      "source": [
        "def f(x): \r\n",
        "    return x**1/2"
      ],
      "execution_count": 126,
      "outputs": []
    },
    {
      "cell_type": "code",
      "metadata": {
        "colab": {
          "base_uri": "https://localhost:8080/",
          "height": 129
        },
        "id": "VtmtrS6K0rA9",
        "outputId": "7a97b574-06f2-4d3f-9c03-e14f856e52c0"
      },
      "source": [
        "def g(x)\r\n",
        "  return x-2 "
      ],
      "execution_count": 127,
      "outputs": [
        {
          "output_type": "error",
          "ename": "SyntaxError",
          "evalue": "ignored",
          "traceback": [
            "\u001b[0;36m  File \u001b[0;32m\"<ipython-input-127-ef289c69c1b4>\"\u001b[0;36m, line \u001b[0;32m1\u001b[0m\n\u001b[0;31m    def g(x)\u001b[0m\n\u001b[0m            ^\u001b[0m\n\u001b[0;31mSyntaxError\u001b[0m\u001b[0;31m:\u001b[0m invalid syntax\n"
          ]
        }
      ]
    },
    {
      "cell_type": "code",
      "metadata": {
        "id": "cme2OG6S0zO8"
      },
      "source": [
        "from sympy.solvers import solve \r\n",
        "from sympy import Symbol\r\n",
        "x= Symbol('x')\r\n",
        "solve ((x-2)**2-x,x)"
      ],
      "execution_count": null,
      "outputs": []
    },
    {
      "cell_type": "markdown",
      "metadata": {
        "id": "wQoDRLXlr3oo"
      },
      "source": [
        "Plot $f$ and $g$ on the same graph for $x\\in[0,4]$."
      ]
    },
    {
      "cell_type": "code",
      "metadata": {
        "id": "uI8bzhwNr3oo"
      },
      "source": [
        "import numpy as np\r\n",
        "import matplotlib.pyplot as plt\r\n",
        "import scipy.integrate as integrate\r\n",
        "f=lambda x:x**1/2\r\n",
        "g=lambda x:x-2\r\n",
        "x=np.linspace(0,4,100)\r\n",
        "fx=f(x)\r\n",
        "gx=g(x)\r\n",
        "plt.plot(x,f(x),'r', label = 'f(x)=x**1/2')\r\n",
        "plt.plot(x,g(x),'y', label = 'g(x)=x-2')\r\n",
        "plt.fill_between(x,fx,gx)\r\n",
        "plt.legend()"
      ],
      "execution_count": null,
      "outputs": []
    },
    {
      "cell_type": "markdown",
      "metadata": {
        "id": "NUNkTcOsr3oo"
      },
      "source": [
        "Calculate the volume."
      ]
    },
    {
      "cell_type": "code",
      "metadata": {
        "id": "WA0YHuXYr3op"
      },
      "source": [
        "from scipy.integrate import quad\r\n",
        "def integrand(x):\r\n",
        "  return np. pi*(x)-pi*((x-2)**2)\r\n",
        "  ans, err = quad(integrand, 0, 4)\r\n",
        "  print(ans)"
      ],
      "execution_count": 129,
      "outputs": []
    },
    {
      "cell_type": "markdown",
      "metadata": {
        "id": "7R2BxsB3r3op"
      },
      "source": [
        "## Define the functions f and g, find the intersections (if exists), plot the graph and find the volume of solids by Cylindrical Shell Method."
      ]
    },
    {
      "cell_type": "markdown",
      "metadata": {
        "id": "NfeIotG_r3op"
      },
      "source": [
        "a) $f(x) = x^2 + 1$, $g(x)=0$, $x=0$ and $x=2$. Revolve about $x=0$."
      ]
    },
    {
      "cell_type": "markdown",
      "metadata": {
        "id": "kkL-qfM2r3op"
      },
      "source": [
        "Define $f$ and $g$. Then, plot $f$ and $g$ on the same graph for $x\\in[0,2]$."
      ]
    },
    {
      "cell_type": "code",
      "metadata": {
        "id": "gHUB5W3jr3op"
      },
      "source": [
        "def f(x):\r\n",
        "    return x**2 + 1"
      ],
      "execution_count": null,
      "outputs": []
    },
    {
      "cell_type": "code",
      "metadata": {
        "id": "gtfwpUs16X_S"
      },
      "source": [
        "def g(x)\r\n",
        "    return 0  "
      ],
      "execution_count": null,
      "outputs": []
    },
    {
      "cell_type": "code",
      "metadata": {
        "colab": {
          "base_uri": "https://localhost:8080/",
          "height": 282
        },
        "id": "35IKj4f96f5l",
        "outputId": "8c4bc36c-805e-48a9-e1b1-6cf40c21f999"
      },
      "source": [
        "import numpy as np\r\n",
        "import matplotlib.pyplot as plt\r\n",
        "import scipy.integrate as integrate\r\n",
        "f= lambda x:x**2+1\r\n",
        "g= lambda x:0\r\n",
        "x=np.linspace(0,2,100)\r\n",
        "fx=f(x)\r\n",
        "gx=g(x)\r\n",
        "plt.plot(x,f(x),'r', label='f(x)=x**2+1')\r\n",
        "plt.fill_between(x,fx,gx)\r\n",
        "plt.legend()"
      ],
      "execution_count": 130,
      "outputs": [
        {
          "output_type": "execute_result",
          "data": {
            "text/plain": [
              "<matplotlib.legend.Legend at 0x7f6de1eff5f8>"
            ]
          },
          "metadata": {
            "tags": []
          },
          "execution_count": 130
        },
        {
          "output_type": "display_data",
          "data": {
            "image/png": "[encoded data removed]",
            "text/plain": [
              "<Figure size 432x288 with 1 Axes>"
            ]
          },
          "metadata": {
            "tags": [],
            "needs_background": "light"
          }
        }
      ]
    },
    {
      "cell_type": "markdown",
      "metadata": {
        "id": "NGB_MUhjr3oq"
      },
      "source": [
        "Calculate the volume."
      ]
    },
    {
      "cell_type": "code",
      "metadata": {
        "id": "M-ROtrRar3oq"
      },
      "source": [
        "f = lambda "
      ],
      "execution_count": null,
      "outputs": []
    },
    {
      "cell_type": "markdown",
      "metadata": {
        "id": "l5EQb1ARr3oq"
      },
      "source": [
        "**The End**"
      ]
    }
  ]
}